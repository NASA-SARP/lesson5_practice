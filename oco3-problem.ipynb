{
 "cells": [
  {
   "cell_type": "markdown",
   "id": "cbc2b9ed-9999-49fe-b8a5-4623560ad919",
   "metadata": {
    "user_expressions": []
   },
   "source": [
    "## Confirm Earthdata Login"
   ]
  },
  {
   "cell_type": "markdown",
   "id": "003ad751-8593-4d48-8572-fa568e0e828d",
   "metadata": {
    "user_expressions": []
   },
   "source": [
    "Install the [sarp-east-toolkit](https://github.com/NASA-SARP/sarp-east-toolkit)."
   ]
  },
  {
   "cell_type": "code",
   "execution_count": null,
   "id": "05ea7156-a013-4446-a27b-56986a4bcfc2",
   "metadata": {
    "tags": []
   },
   "outputs": [],
   "source": [
    "import xarray\n",
    "from sarp_east_toolkit import earthdata_rio\n",
    "\n",
    "rio_env = earthdata_rio('ornldaac')\n",
    "fileobj = (\n",
    "    's3://ornl-cumulus-prod-protected/'\n",
    "    'gedi/GEDI_L4B_Gridded_Biomass/data/'\n",
    "    'GEDI04_B_MW019MW138_02_002_05_R01000M_MU.tif'\n",
    ")\n",
    "with rio_env as env:\n",
    "    raster = xarray.open_dataset(fileobj, engine='rasterio', chunks={})"
   ]
  },
  {
   "cell_type": "code",
   "execution_count": null,
   "id": "9d5d9033-91b6-4ea2-8914-162dbc6e33b4",
   "metadata": {},
   "outputs": [],
   "source": [
    "# what are the raster's dimensions? its CRS?"
   ]
  },
  {
   "cell_type": "markdown",
   "id": "a7316397-b470-4b25-a17c-7f12ea007721",
   "metadata": {
    "user_expressions": []
   },
   "source": [
    "## Problem with XArray and Pandas"
   ]
  },
  {
   "cell_type": "markdown",
   "id": "b363c2f2-40ec-4324-af4d-3db92734cc26",
   "metadata": {
    "user_expressions": []
   },
   "source": [
    ":::{dropdown} Problem\n",
    ":open:\n",
    "\n",
    "The OCO3 file has a peculiar way of storing the datetime for each sounding. The `date` variable has `epoch_dimension` as its second dimension: the 7 elements along this dimension correspond to year, month, day, hour, minute, second, and microsecond. Note that the\n",
    "file name indicates all the data are from `200228`, or 2002-02-28.\n",
    "\n",
    "Level: I\n",
    "\n",
    ": Use the `xarray.DataArray.min` method to work out the earliest `sounding_id` time.\n",
    "\n",
    "Level: I already knew about pandas.to_datetime\n",
    "\n",
    ": Create a new variable in the dataset with the date converted to a datetime, getting rid of the epoch_dimension but keeping the sounding_id dimension\n",
    "\n",
    ":::"
   ]
  },
  {
   "cell_type": "code",
   "execution_count": null,
   "id": "839cc14e-8dc5-4ff9-b447-340348561b1d",
   "metadata": {
    "tags": []
   },
   "outputs": [],
   "source": [
    "# packages you need?"
   ]
  },
  {
   "cell_type": "code",
   "execution_count": null,
   "id": "a04d6497-b974-44bd-81d7-af1e6e20c6a9",
   "metadata": {},
   "outputs": [],
   "source": [
    "# file location\n",
    "\n",
    "file = (\n",
    "    DATADIR\n",
    "    / 'oco-3-co2-data'\n",
    "    / 'oco3_LtCO2_200228_B10400Br_220317235859s.nc4'\n",
    ")"
   ]
  },
  {
   "cell_type": "code",
   "execution_count": null,
   "id": "12cbdc66-82ba-4ca5-8b18-ef4c52f23e06",
   "metadata": {},
   "outputs": [],
   "source": [
    "# open dataset\n"
   ]
  },
  {
   "cell_type": "code",
   "execution_count": null,
   "id": "a54fb466-d3ce-4c77-a61e-50e09fbfdbaf",
   "metadata": {},
   "outputs": [],
   "source": [
    "# pull the date variable out and understand this epoch_dimension\n",
    "# 2020-02-28 10:36:04.1234 -> [2020, 2, 28, 10, 36, 4, 1.234]"
   ]
  },
  {
   "cell_type": "code",
   "execution_count": null,
   "id": "0fafed7f-6f74-4bf5-b714-1464bf461aa3",
   "metadata": {},
   "outputs": [],
   "source": [
    "# use the `xarray.DataArray.min` method over the correct dimension\n"
   ]
  },
  {
   "cell_type": "code",
   "execution_count": null,
   "id": "d57b289b-c7ea-43d4-9db2-025996b74166",
   "metadata": {},
   "outputs": [],
   "source": [
    "# mask the date to select sounding_id with the minimum hour\n",
    "# use the drop=True argument to ditch everything else\n"
   ]
  },
  {
   "cell_type": "code",
   "execution_count": null,
   "id": "ce7d3607-ce7a-4b60-9712-e3d360070d70",
   "metadata": {},
   "outputs": [],
   "source": [
    "# repeat above with minutes, days, ... \n"
   ]
  },
  {
   "cell_type": "code",
   "execution_count": null,
   "id": "bbb49be5-e52b-408e-ac5e-c66832877eb5",
   "metadata": {},
   "outputs": [],
   "source": [
    "# how does pandas.to_datetime work when you pass it a data frame?\n",
    "# how can you build a pandas.DataFrame from this xarray.DataArray?"
   ]
  },
  {
   "cell_type": "markdown",
   "id": "2cdc9603-bc25-4afd-b48a-63330a93b748",
   "metadata": {
    "user_expressions": []
   },
   "source": [
    ":::{dropdown} Solution\n",
    "\n",
    "```\n",
    "from pathlib import Path\n",
    "\n",
    "import xarray\n",
    "import pandas\n",
    "\n",
    "\n",
    "file = (\n",
    "    Path('/efs/sarp/data/rawdata_readonly')\n",
    "    / 'oco-3-co2-data'\n",
    "    / 'oco3_LtCO2_200228_B10400Br_220317235859s.nc4'\n",
    ")\n",
    "oco3 = xarray.open_dataset(file)\n",
    "\n",
    "date = oco3['date']\n",
    "hour = date.sel({'epoch_dimension': 3}).min()\n",
    "print(hour)\n",
    "date = date.where(date.sel({'epoch_dimension': 3}) == hour)\n",
    "minute = date.sel({'epoch_dimension': 4}).min()\n",
    "print(minute)\n",
    "date = date.where(date.sel({'epoch_dimension': 4}) == minute)\n",
    "second = date.sel({'epoch_dimension': 5}).min()\n",
    "print(second)\n",
    "date = date.where(date.sel({'epoch_dimension': 5}) == second)\n",
    "microsec = date.sel({'epoch_dimension': 6}).min()\n",
    "print(microsec)\n",
    "\n",
    "date = oco3['date'].assign_coords({\n",
    "    'epoch_dimension': ['year', 'month', 'day', 'hour', 'minute', 'second', 'microsecond']\n",
    "})\n",
    "date_pandas = date.to_dataset(dim='epoch_dimension').to_dataframe()\n",
    "oco3['datetime'] = pandas.to_datetime(date_pandas)\n",
    "```\n",
    ":::"
   ]
  }
 ],
 "metadata": {
  "kernelspec": {
   "display_name": "Python 3 (ipykernel)",
   "language": "python",
   "name": "python3"
  },
  "language_info": {
   "codemirror_mode": {
    "name": "ipython",
    "version": 3
   },
   "file_extension": ".py",
   "mimetype": "text/x-python",
   "name": "python",
   "nbconvert_exporter": "python",
   "pygments_lexer": "ipython3",
   "version": "3.10.9"
  }
 },
 "nbformat": 4,
 "nbformat_minor": 5
}
