{
 "cells": [
  {
   "cell_type": "markdown",
   "id": "a5d864c6-9f49-47d1-bca5-13fb136eed8a",
   "metadata": {
    "user_expressions": []
   },
   "source": [
    "# Practice worksheet - pandas 🐼"
   ]
  },
  {
   "cell_type": "markdown",
   "id": "b87bb3fc-301d-4a73-9dd3-b91acfa2d156",
   "metadata": {
    "user_expressions": []
   },
   "source": [
    "In this worksheet you are going to open some data and run an analysis using pandas! We are working with data from the ASD, an instrument you will be seeing this afternoon which looks at remote sensing spectra. By the end of the worksheet you will have calculated a value which is indicative of the health of the plant. 🌱"
   ]
  },
  {
   "cell_type": "markdown",
   "id": "620609e7-2bf8-44cb-8837-75c1a8074318",
   "metadata": {
    "user_expressions": []
   },
   "source": [
    "## Step 1 - Read in the data file\n",
    "\n",
    "The datafile we are using has output from an ASD spectroradiometer. You'll be using one of those this afternoon! The ASD measures the reflectance of an object at many wavelengths and we can use this information to tell us something about the object (Ex. Is this plant water stressed?)"
   ]
  },
  {
   "cell_type": "markdown",
   "id": "cd427299-91c2-40d5-a971-c8ff89a684a6",
   "metadata": {
    "user_expressions": []
   },
   "source": [
    "We didn't cover file extensions in class, but they are a great thing to get in the habit of noticing. The last part of the name of a file is usually a `.` followed by a few letters. Those few letters tell you about what type of file you are working with. Some examples you may be familiar with are:\n",
    "- `.pdf`\n",
    "- `.doc` (Word document)\n",
    "- `.png` (image format)\n",
    "- `.jpg` (image format)\n",
    "\n",
    "In the EFS there are two versions of the same data. The data is in the shared `efs` drive in the `asd` folder. One file is a `.csv` (\"comma seperated value\" file) and the other is a `.xlsx` (excel worksheet), both containing the same data. The levels of this first exercise are differentiated based on the file type, although the output dataframe will be the same."
   ]
  },
  {
   "cell_type": "markdown",
   "id": "92e65375-d4e6-49d4-bc36-c6f6c5fc1bd1",
   "metadata": {
    "user_expressions": []
   },
   "source": [
    "### Level 1 (read the csv file)\n",
    "\n",
    "Assign the dataframe to a variable and name it `spectra`. Your pandas dataframe should have string column names `Wavelength`, `beech1.asd`, ..."
   ]
  },
  {
   "cell_type": "code",
   "execution_count": null,
   "id": "566e5ee4-e9b3-40ad-8797-baeab3f0f86b",
   "metadata": {},
   "outputs": [],
   "source": []
  },
  {
   "cell_type": "markdown",
   "id": "3bc641f6-28c5-4376-8fc4-d8059f2f91d5",
   "metadata": {
    "user_expressions": []
   },
   "source": [
    "### Level 2 (read the excel file)\n",
    "\n",
    "Your pandas dataframe should have string column names `Wavelength`, `beech1.asd`, ...\n",
    "\n",
    "\n",
    "Note: Depending on how you choose to read the excel file you may get an error that you need to install `openpyxl`. If this happens open the terminal and run:\n",
    "`pip install --user openpyxl`. Then re-run your cell."
   ]
  },
  {
   "cell_type": "code",
   "execution_count": null,
   "id": "4e4c0d56-00cc-401a-95aa-ab5dd20b889c",
   "metadata": {},
   "outputs": [],
   "source": []
  },
  {
   "cell_type": "markdown",
   "id": "9b25652f-4bc4-45e6-ace3-a6a531c6d61c",
   "metadata": {
    "user_expressions": []
   },
   "source": [
    ":::{dropdown} Hint 1\n",
    "\n",
    "In the lessons we used the method `.read_csv()` to open the file. There is a different function to use in pandas for excel files with the `.xslx` extension.\n",
    "\n",
    ":::"
   ]
  },
  {
   "cell_type": "markdown",
   "id": "8b0f4f00-059b-43bd-b4c3-b24432037749",
   "metadata": {
    "user_expressions": []
   },
   "source": [
    ":::{dropdown} Hint 2\n",
    "\n",
    "Try the function `.read_excel()` ([Docs page](https://pandas.pydata.org/docs/reference/api/pandas.read_excel.html))\n",
    "\n",
    ":::"
   ]
  },
  {
   "cell_type": "markdown",
   "id": "2f85417e-b086-47e0-9f3f-ee2357731869",
   "metadata": {
    "user_expressions": []
   },
   "source": [
    "## Step 2 - Data exploration\n",
    "\n",
    "Answer the following questions about the data:\n",
    "\n",
    "1. How many wavelengths are being measured?\n",
    "2. How many plant species were measured? List the species.\n",
    "3. **[Level 2]** Are there any likely nodata values? (Reflectance values should always be between or equal to 0 and 1.)"
   ]
  },
  {
   "cell_type": "code",
   "execution_count": null,
   "id": "b37ceca2-93aa-4bd7-8741-200a6ef07917",
   "metadata": {},
   "outputs": [],
   "source": []
  },
  {
   "cell_type": "code",
   "execution_count": null,
   "id": "1ce6dc78-5893-40a6-ac40-c4251e187060",
   "metadata": {},
   "outputs": [],
   "source": []
  },
  {
   "cell_type": "markdown",
   "id": "6279164d-ea1a-4170-9791-37b20d74f750",
   "metadata": {
    "user_expressions": []
   },
   "source": [
    "## Step 3 - Set the wavelength as the index\n",
    "\n",
    "In the lesson we talked about how useful it is to have scientifically meaningful labels for our rows, instead of just integers. Go up to the dataframe you opened and notice -- the row indexes are integers. For us a more meaningful label would be the wavelength of light that is being measured.\n",
    "\n",
    "In this set we are going to use a new method to create labelled indexes for your dataframe."
   ]
  },
  {
   "cell_type": "markdown",
   "id": "4e94c200-a7bb-4f0a-bf58-9ed28deca3db",
   "metadata": {
    "user_expressions": []
   },
   "source": [
    "### Level 1\n",
    "\n",
    "Below are two different links that have examples of how to achieve this goal. One is a link to a documentation page and the other other is a stack overflow page. Pick one and use it to solve the problem.\n",
    "\n",
    "- [Documentation page](https://pandas.pydata.org/docs/reference/api/pandas.DataFrame.set_index.html)\n",
    "- [Stackoverflow example](https://stackoverflow.com/questions/38542419/could-pandas-use-column-as-index)"
   ]
  },
  {
   "cell_type": "code",
   "execution_count": null,
   "id": "a0691b03-7447-4e46-99d4-935951cbc000",
   "metadata": {},
   "outputs": [],
   "source": []
  },
  {
   "cell_type": "code",
   "execution_count": null,
   "id": "1054b121-f9e9-49c8-b52b-b73f84be9307",
   "metadata": {},
   "outputs": [],
   "source": []
  },
  {
   "cell_type": "markdown",
   "id": "99cd4416-a759-45a5-a209-dae1e7e1e98b",
   "metadata": {
    "tags": [],
    "user_expressions": []
   },
   "source": [
    "### Level 2\n",
    "\n",
    "Search google for some help about how to achieve this. Remember to include the name of the library in the search (pandas) and try to describe the problem using the data structure terminology we have been practicing."
   ]
  },
  {
   "cell_type": "code",
   "execution_count": null,
   "id": "20f4ed13-4cf8-447f-8143-7fca5827dd9d",
   "metadata": {},
   "outputs": [],
   "source": []
  },
  {
   "cell_type": "code",
   "execution_count": null,
   "id": "4f8761fb-a070-4e6b-b1f7-ab3ee409179a",
   "metadata": {},
   "outputs": [],
   "source": []
  },
  {
   "cell_type": "markdown",
   "id": "b78f9c03-9dc9-4216-88ab-8a57e268145e",
   "metadata": {
    "user_expressions": []
   },
   "source": [
    ":::{dropdown} Hint 1\n",
    "\n",
    "Google suggestion: \"pandas how to make a column an index\"\n",
    "\n",
    ":::"
   ]
  },
  {
   "cell_type": "markdown",
   "id": "27bf54e2-8964-41c9-acb1-e36b22da26e0",
   "metadata": {
    "user_expressions": []
   },
   "source": [
    ":::{dropdown} Hint 2\n",
    "\n",
    "Try the [.set_index() method](https://pandas.pydata.org/docs/reference/api/pandas.DataFrame.set_index.html).\n",
    "\n",
    "::"
   ]
  },
  {
   "cell_type": "markdown",
   "id": "953a8aaa-948c-4a5a-b37b-6cf3e37960d2",
   "metadata": {
    "user_expressions": []
   },
   "source": [
    "## Step 4 - Plot the spectra"
   ]
  },
  {
   "cell_type": "markdown",
   "id": "869d9a1c-73f5-4ec5-bc19-4d63350a0bed",
   "metadata": {
    "user_expressions": []
   },
   "source": [
    "### Level 1\n",
    "\n",
    "We saw in the xarray lesson that we could use the `.hvplot()` method to view our data. That same method works on pandas dataframes. Use that method on your `spectra` dataframe to view the data. \n",
    "\n",
    "Be sure to import the necessary libraries:\n",
    "\n",
    "```\n",
    "import holoviews as hv\n",
    "import hvplot.pandas\n",
    "```\n",
    "And also enable the `holoviz` extension.\n",
    "```\n",
    "hv.extension('bokeh')\n",
    "```"
   ]
  },
  {
   "cell_type": "code",
   "execution_count": null,
   "id": "16599c0a-af75-464a-baa1-6ca33cabad4a",
   "metadata": {},
   "outputs": [],
   "source": []
  },
  {
   "cell_type": "code",
   "execution_count": null,
   "id": "91c34e40-9fef-4e87-adf9-6b3aa9d0b529",
   "metadata": {},
   "outputs": [],
   "source": []
  },
  {
   "cell_type": "code",
   "execution_count": null,
   "id": "ccf32d18-2521-42c7-8028-38ba454fc5fe",
   "metadata": {},
   "outputs": [],
   "source": []
  },
  {
   "cell_type": "markdown",
   "id": "b558f5dd-65a0-4050-9a89-e9d9b1deb002",
   "metadata": {
    "tags": [],
    "user_expressions": []
   },
   "source": [
    ":::{admonition} Extra\n",
    "\n",
    "The legend is too large to be useful in this dataset. You can drop the legend by including the `legend` argument as `legend=False` in the method parenthesis `()`. \n",
    "\n",
    ":::"
   ]
  },
  {
   "cell_type": "markdown",
   "id": "d064b3a4-912f-4f00-afdb-98771c9ada50",
   "metadata": {
    "user_expressions": []
   },
   "source": [
    "### Level 2\n",
    "\n",
    "We saw in the xarray lesson (['lesson-datasets-ii-east'](https://github.com/NASA-SARP/lesson-datasets-ii-east/blob/main/training.ipynb)) that we could use the `.hvplot()` method to view our data. That same method works on pandas dataframes. Use that method on your `spectra` dataframe to view the data."
   ]
  },
  {
   "cell_type": "code",
   "execution_count": null,
   "id": "d6e68010-caa6-469f-90b5-7f3b6002bf29",
   "metadata": {},
   "outputs": [],
   "source": []
  },
  {
   "cell_type": "code",
   "execution_count": null,
   "id": "4476cb4b-3f99-48e7-bc15-1cc82016927d",
   "metadata": {},
   "outputs": [],
   "source": []
  },
  {
   "cell_type": "markdown",
   "id": "f1bf5811-1fd0-40a9-8ea6-0c104a20d96e",
   "metadata": {
    "user_expressions": []
   },
   "source": [
    ":::{admonition} Extra\n",
    "\n",
    "The legend is too large to be useful in this dataset. You can drop the legend by including the `legend` argument in the method parenthesis `()` and setting it to `False`. \n",
    "\n",
    ":::"
   ]
  },
  {
   "cell_type": "markdown",
   "id": "91716618-89b2-4f0f-bd59-d52f9c3d2045",
   "metadata": {},
   "source": [
    ":::{dropdown} Hint\n",
    "\n",
    "You will need to copy in two import statements from the xarray lesson (['lesson-datasets-ii-east'](https://github.com/NASA-SARP/lesson-datasets-ii-east/blob/main/training.ipynb)) and also enable the `holoviz` extension (telling it to use the `'bokeh'` backend. (I would go look for these 3 lines are at the beginning of the xarray lesson.)\n",
    "\n",
    ":::"
   ]
  },
  {
   "cell_type": "markdown",
   "id": "c3e3aca9-8de5-470f-be26-8dcbac538605",
   "metadata": {
    "user_expressions": []
   },
   "source": [
    "## Step 5 - Subset to a few columns"
   ]
  },
  {
   "cell_type": "markdown",
   "id": "72fdca63-910b-4204-bfbe-699432d00522",
   "metadata": {
    "user_expressions": []
   },
   "source": [
    "### Level 1\n",
    "\n",
    "Our goal in this step is to get rid of a bunch of columns we don't need and reduce or subset our dataframe to the spectra of just 4 species. You will choose which 4 species to keep."
   ]
  },
  {
   "cell_type": "markdown",
   "id": "b32c7809-8c6c-46d0-9ef6-13a86216c80d",
   "metadata": {
    "tags": [],
    "user_expressions": []
   },
   "source": [
    "1. List the columns in the dataframe. Choose just one and print the data from just that column."
   ]
  },
  {
   "cell_type": "code",
   "execution_count": null,
   "id": "d44e4654-1d23-4696-a818-ad465176f5d8",
   "metadata": {},
   "outputs": [],
   "source": []
  },
  {
   "cell_type": "code",
   "execution_count": null,
   "id": "fce967fc-8fea-4f24-b580-f6dc3fe87deb",
   "metadata": {},
   "outputs": [],
   "source": []
  },
  {
   "cell_type": "markdown",
   "id": "140784cc-16c3-45dc-8975-f3b2e4d3dfef",
   "metadata": {
    "user_expressions": []
   },
   "source": [
    "2. Go to google and search for an example. Consider how you want to phrase the search. Be sure to include the name of the library you are using (pandas) and remember to describe your problem using data structures."
   ]
  },
  {
   "cell_type": "code",
   "execution_count": null,
   "id": "a663275f-af8c-46e6-80b7-2252455878a2",
   "metadata": {},
   "outputs": [],
   "source": []
  },
  {
   "cell_type": "code",
   "execution_count": null,
   "id": "4dbd1024-3062-4dbc-87d3-dd50b7a6d203",
   "metadata": {},
   "outputs": [],
   "source": []
  },
  {
   "cell_type": "markdown",
   "id": "0850155c-cbb0-4b35-95a9-53a02ad1f3c5",
   "metadata": {
    "user_expressions": []
   },
   "source": [
    ":::{dropdown} Hint\n",
    "\n",
    "[Here is a link](https://www.geeksforgeeks.org/how-to-select-multiple-columns-in-a-pandas-dataframe/) to a potentially helpful webpage. When reading, skim the blocks of code. Remember that the general format of the code for a page like this will be 1) define some example data 2) do the thing that the page claims to show you how to do. \n",
    "\n",
    ":::"
   ]
  },
  {
   "cell_type": "markdown",
   "id": "ce0e7b6f-6f50-414d-8aed-c5a194cb067a",
   "metadata": {
    "user_expressions": []
   },
   "source": [
    "3. Take the code you wrote to get just 4 species and use that to update the original dataframe. So, the `spectra` dataframe when printed should have only 4 columns."
   ]
  },
  {
   "cell_type": "code",
   "execution_count": null,
   "id": "3e26be59-b83e-45c6-942f-a73c38ad56e3",
   "metadata": {},
   "outputs": [],
   "source": []
  },
  {
   "cell_type": "code",
   "execution_count": null,
   "id": "b6021e7b-ff1c-4a22-a31b-5db4230f8b81",
   "metadata": {},
   "outputs": [],
   "source": []
  },
  {
   "cell_type": "markdown",
   "id": "7494ca82-d42c-4a90-8d75-7ff7c4250882",
   "metadata": {
    "tags": [],
    "user_expressions": []
   },
   "source": [
    "### Level 2\n",
    "\n",
    "Extract from the dataframe 4 species. (Your output dataframe should only have 4 columns)."
   ]
  },
  {
   "cell_type": "code",
   "execution_count": null,
   "id": "ca27be6c-d1ff-4635-8aa9-f25394c1de92",
   "metadata": {},
   "outputs": [],
   "source": []
  },
  {
   "cell_type": "code",
   "execution_count": null,
   "id": "c4e255e1-788d-4459-8d56-97939bf34855",
   "metadata": {},
   "outputs": [],
   "source": []
  },
  {
   "cell_type": "markdown",
   "id": "bcab56be-f3f6-4308-a996-e2068dd478d9",
   "metadata": {
    "user_expressions": []
   },
   "source": [
    "## Step 6 - Calculating NDVI\n",
    "\n",
    "NDVI is a common remote sensing metric. NDVI gives an indication of \"greeness\" of a plant. Read more about NDVI [here](https://gisgeography.com/ndvi-normalized-difference-vegetation-index/). NDVI values should range from 0 to 1.\n",
    "\n",
    "$$ NDVI = \\frac{(NIR - R)}{(NIR + R)} $$ \n",
    "\n",
    "- NIR = Near Infrared (wavelength ~800nm)\n",
    "- R = Red (wavelength ~650nm)"
   ]
  },
  {
   "cell_type": "markdown",
   "id": "3651b0d5-590e-4e5d-af61-555bf7f1216d",
   "metadata": {
    "user_expressions": []
   },
   "source": [
    "### Level 1"
   ]
  },
  {
   "cell_type": "markdown",
   "id": "01796028-eb43-402f-bc01-2b35fb3dfce1",
   "metadata": {
    "user_expressions": []
   },
   "source": [
    "1. Write a line of code to extract just the 650nm and 800nm rows. Assign these to variables `red` for 650nm and `nir` for 800nm."
   ]
  },
  {
   "cell_type": "code",
   "execution_count": null,
   "id": "334995c7-0068-41e3-bfe4-2c61378870ce",
   "metadata": {},
   "outputs": [],
   "source": []
  },
  {
   "cell_type": "code",
   "execution_count": null,
   "id": "cbb246e4-c1e6-4a96-8e39-60143133b3e5",
   "metadata": {},
   "outputs": [],
   "source": []
  },
  {
   "cell_type": "markdown",
   "id": "8935cc86-f5da-47bf-8bf0-e274a2e31ae0",
   "metadata": {
    "user_expressions": []
   },
   "source": [
    ":::{admonition} Note!\n",
    ":class: note\n",
    "\n",
    "If you used `.iloc` you cannot use 650 and 800 as the integers. Using `.iloc` will give you the value for the wavelength at integer position 650 and 800 NOT the value for wavelength 650nm and 800nm.\n",
    "\n",
    "Looking at \"name\" in the output below we can see that if you used `iloc` you will be looking at the wavelengths 100nm and 1150nm."
   ]
  },
  {
   "cell_type": "code",
   "execution_count": 21,
   "id": "ec01a177-f34b-434c-864c-8ce94fd97581",
   "metadata": {},
   "outputs": [
    {
     "data": {
      "text/plain": [
       "beech1.asd                0.605933\n",
       "Ivy_fake2.asd             0.152653\n",
       "shasta_dark_green1.asd    0.578776\n",
       "salix_white_spots.asd     0.540134\n",
       "Name: 1000, dtype: float64"
      ]
     },
     "execution_count": 21,
     "metadata": {},
     "output_type": "execute_result"
    }
   ],
   "source": [
    "spectra.iloc[650]"
   ]
  },
  {
   "cell_type": "code",
   "execution_count": 22,
   "id": "57525a38-703c-4adb-887c-1d54dd8d9c15",
   "metadata": {},
   "outputs": [
    {
     "data": {
      "text/plain": [
       "beech1.asd                0.600117\n",
       "Ivy_fake2.asd             0.156004\n",
       "shasta_dark_green1.asd    0.548335\n",
       "salix_white_spots.asd     0.521142\n",
       "Name: 1150, dtype: float64"
      ]
     },
     "execution_count": 22,
     "metadata": {},
     "output_type": "execute_result"
    }
   ],
   "source": [
    "spectra.iloc[800]"
   ]
  },
  {
   "cell_type": "markdown",
   "id": "942eccdb-9ec4-49f7-bae5-74716f6da342",
   "metadata": {
    "user_expressions": []
   },
   "source": [
    "2. Use the NDVI equation to calculate ndvi for the 4 species in your dataframe."
   ]
  },
  {
   "cell_type": "code",
   "execution_count": null,
   "id": "f2f09013-14b5-4498-bd65-4aa9ecef9035",
   "metadata": {},
   "outputs": [],
   "source": []
  },
  {
   "cell_type": "code",
   "execution_count": null,
   "id": "71e205ff-d651-4bc3-86f9-41e877ec546c",
   "metadata": {},
   "outputs": [],
   "source": []
  },
  {
   "cell_type": "markdown",
   "id": "d0cc2555-6cac-421f-ad74-6bbc7d59ff3b",
   "metadata": {
    "user_expressions": []
   },
   "source": [
    "Food for the science portion of your brain: Which is the least healthy plant based on ndvi? Do you see any relationthip between NDVI and the `.hvplot()` line spectra?"
   ]
  },
  {
   "cell_type": "code",
   "execution_count": null,
   "id": "b88217c4-465d-4a86-b2af-c0482f064e0d",
   "metadata": {},
   "outputs": [],
   "source": []
  },
  {
   "cell_type": "code",
   "execution_count": null,
   "id": "cdb26dcb-ea19-43ce-b248-e32a9817e022",
   "metadata": {},
   "outputs": [],
   "source": []
  },
  {
   "cell_type": "markdown",
   "id": "506d457d-ac79-4045-b924-bafd4c783712",
   "metadata": {
    "user_expressions": []
   },
   "source": [
    "## Closing\n",
    "\n",
    "Congrats! You've completed an analysis using real data in pandas! Who knows what the next one will be 🚀"
   ]
  },
  {
   "cell_type": "code",
   "execution_count": null,
   "id": "10753149-c5e5-4acd-b856-de266845be56",
   "metadata": {},
   "outputs": [],
   "source": []
  }
 ],
 "metadata": {
  "kernelspec": {
   "display_name": "Python 3 (ipykernel)",
   "language": "python",
   "name": "python3"
  },
  "language_info": {
   "codemirror_mode": {
    "name": "ipython",
    "version": 3
   },
   "file_extension": ".py",
   "mimetype": "text/x-python",
   "name": "python",
   "nbconvert_exporter": "python",
   "pygments_lexer": "ipython3",
   "version": "3.10.11"
  }
 },
 "nbformat": 4,
 "nbformat_minor": 5
}
